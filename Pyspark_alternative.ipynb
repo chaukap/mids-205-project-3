{
 "cells": [
  {
   "cell_type": "code",
   "execution_count": 1,
   "metadata": {
    "collapsed": true,
    "jupyter": {
     "outputs_hidden": true
    }
   },
   "outputs": [],
   "source": [
    "import json\n",
    "from pyspark.sql import Row\n",
    "from pyspark.sql.functions import udf"
   ]
  },
  {
   "cell_type": "code",
   "execution_count": 2,
   "metadata": {},
   "outputs": [
    {
     "data": {
      "text/html": [
       "\n",
       "            <div>\n",
       "                <p><b>SparkSession - hive</b></p>\n",
       "                \n",
       "        <div>\n",
       "            <p><b>SparkContext</b></p>\n",
       "\n",
       "            <p><a href=\"http://172.18.0.7:4040\">Spark UI</a></p>\n",
       "\n",
       "            <dl>\n",
       "              <dt>Version</dt>\n",
       "                <dd><code>v2.2.0</code></dd>\n",
       "              <dt>Master</dt>\n",
       "                <dd><code>local[*]</code></dd>\n",
       "              <dt>AppName</dt>\n",
       "                <dd><code>PySparkShell</code></dd>\n",
       "            </dl>\n",
       "        </div>\n",
       "        \n",
       "            </div>\n",
       "        "
      ],
      "text/plain": [
       "<pyspark.sql.session.SparkSession at 0x7fcf2e731be0>"
      ]
     },
     "execution_count": 2,
     "metadata": {},
     "output_type": "execute_result"
    }
   ],
   "source": [
    "spark"
   ]
  },
  {
   "cell_type": "code",
   "execution_count": 6,
   "metadata": {
    "collapsed": true,
    "jupyter": {
     "outputs_hidden": true
    }
   },
   "outputs": [],
   "source": [
    "raw_events = spark \\\n",
    "    .read \\\n",
    "    .format(\"kafka\") \\\n",
    "    .option(\"kafka.bootstrap.servers\", \"kafka:29092\") \\\n",
    "    .option(\"subscribe\", \"events\") \\\n",
    "    .option(\"startingOffsets\", \"earliest\") \\\n",
    "    .option(\"endingOffsets\", \"latest\") \\\n",
    "    .load() "
   ]
  },
  {
   "cell_type": "code",
   "execution_count": 7,
   "metadata": {},
   "outputs": [
    {
     "name": "stdout",
     "output_type": "stream",
     "text": [
      "+----+--------------------+------+---------+------+--------------------+-------------+\n",
      "| key|               value| topic|partition|offset|           timestamp|timestampType|\n",
      "+----+--------------------+------+---------+------+--------------------+-------------+\n",
      "|null|[7B 22 65 76 65 6...|events|        0|     0|2021-12-07 19:52:...|            0|\n",
      "|null|[7B 22 65 76 65 6...|events|        0|     1|2021-12-07 19:52:...|            0|\n",
      "|null|[7B 22 65 76 65 6...|events|        0|     2|2021-12-07 19:52:...|            0|\n",
      "|null|[7B 22 65 76 65 6...|events|        0|     3|2021-12-07 19:52:...|            0|\n",
      "|null|[7B 22 65 76 65 6...|events|        0|     4|2021-12-07 19:52:...|            0|\n",
      "|null|[7B 22 65 76 65 6...|events|        0|     5|2021-12-07 19:52:...|            0|\n",
      "|null|[7B 22 79 5F 63 6...|events|        0|     6|2021-12-07 19:52:...|            0|\n",
      "|null|[7B 22 79 5F 63 6...|events|        0|     7|2021-12-07 19:52:...|            0|\n",
      "|null|[7B 22 79 5F 63 6...|events|        0|     8|2021-12-07 19:52:...|            0|\n",
      "|null|[7B 22 79 5F 63 6...|events|        0|     9|2021-12-07 19:52:...|            0|\n",
      "|null|[7B 22 79 5F 63 6...|events|        0|    10|2021-12-07 19:52:...|            0|\n",
      "|null|[7B 22 79 5F 63 6...|events|        0|    11|2021-12-07 19:52:...|            0|\n",
      "|null|[7B 22 79 5F 63 6...|events|        0|    12|2021-12-07 19:52:...|            0|\n",
      "|null|[7B 22 79 5F 63 6...|events|        0|    13|2021-12-07 19:52:...|            0|\n",
      "|null|[7B 22 79 5F 63 6...|events|        0|    14|2021-12-07 19:52:...|            0|\n",
      "|null|[7B 22 79 5F 63 6...|events|        0|    15|2021-12-07 19:52:...|            0|\n",
      "|null|[7B 22 65 76 65 6...|events|        0|    16|2021-12-07 19:52:...|            0|\n",
      "|null|[7B 22 65 76 65 6...|events|        0|    17|2021-12-07 19:52:...|            0|\n",
      "|null|[7B 22 65 76 65 6...|events|        0|    18|2021-12-07 19:52:...|            0|\n",
      "|null|[7B 22 65 76 65 6...|events|        0|    19|2021-12-07 19:52:...|            0|\n",
      "+----+--------------------+------+---------+------+--------------------+-------------+\n",
      "only showing top 20 rows\n",
      "\n"
     ]
    }
   ],
   "source": [
    "raw_events.show()"
   ]
  },
  {
   "cell_type": "code",
   "execution_count": 8,
   "metadata": {},
   "outputs": [
    {
     "name": "stdout",
     "output_type": "stream",
     "text": [
      "root\n",
      " |-- key: binary (nullable = true)\n",
      " |-- value: binary (nullable = true)\n",
      " |-- topic: string (nullable = true)\n",
      " |-- partition: integer (nullable = true)\n",
      " |-- offset: long (nullable = true)\n",
      " |-- timestamp: timestamp (nullable = true)\n",
      " |-- timestampType: integer (nullable = true)\n",
      "\n"
     ]
    }
   ],
   "source": [
    "raw_events.printSchema()"
   ]
  },
  {
   "cell_type": "code",
   "execution_count": 9,
   "metadata": {},
   "outputs": [
    {
     "data": {
      "text/plain": [
       "105"
      ]
     },
     "execution_count": 9,
     "metadata": {},
     "output_type": "execute_result"
    }
   ],
   "source": [
    "raw_events.count()"
   ]
  },
  {
   "cell_type": "code",
   "execution_count": 13,
   "metadata": {},
   "outputs": [
    {
     "name": "stdout",
     "output_type": "stream",
     "text": [
      "+--------------------+\n",
      "|               value|\n",
      "+--------------------+\n",
      "|{\"event_type\": \"a...|\n",
      "|{\"event_type\": \"c...|\n",
      "|{\"event_type\": \"c...|\n",
      "|{\"event_type\": \"c...|\n",
      "|{\"event_type\": \"c...|\n",
      "|{\"event_type\": \"c...|\n",
      "|{\"event_type\": \"c...|\n",
      "|{\"event_type\": \"c...|\n",
      "|{\"event_type\": \"c...|\n",
      "|{\"event_type\": \"c...|\n",
      "|{\"event_type\": \"c...|\n",
      "|{\"event_type\": \"c...|\n",
      "|{\"event_type\": \"c...|\n",
      "|{\"event_type\": \"c...|\n",
      "|{\"event_type\": \"c...|\n",
      "|{\"event_type\": \"c...|\n",
      "|{\"event_type\": \"c...|\n",
      "|{\"event_type\": \"c...|\n",
      "|{\"event_type\": \"c...|\n",
      "|{\"event_type\": \"c...|\n",
      "+--------------------+\n",
      "only showing top 20 rows\n",
      "\n"
     ]
    }
   ],
   "source": [
    "all_events = raw_events.select(raw_events.value.cast('string'))\n",
    "all_events.show()"
   ]
  },
  {
   "cell_type": "code",
   "execution_count": 15,
   "metadata": {},
   "outputs": [
    {
     "data": {
      "text/plain": [
       "{'event_type': 'check',\n",
       " 'neighboring_bombs': 35,\n",
       " 'outcome': 'hit_mine',\n",
       " 'session_id': 'ac796b7b-cf99-4aad-bb93-2c87a46e946a',\n",
       " 'x_coord': 34,\n",
       " 'y_coord': 98}"
      ]
     },
     "execution_count": 15,
     "metadata": {},
     "output_type": "execute_result"
    }
   ],
   "source": [
    "json.loads(all_events.collect()[6].value)"
   ]
  },
  {
   "cell_type": "code",
   "execution_count": 16,
   "metadata": {
    "collapsed": true,
    "jupyter": {
     "outputs_hidden": true
    }
   },
   "outputs": [],
   "source": [
    "events_list= ['a_startup_event','check','flag','solution']"
   ]
  },
  {
   "cell_type": "code",
   "execution_count": 10,
   "metadata": {
    "collapsed": true,
    "jupyter": {
     "outputs_hidden": true
    }
   },
   "outputs": [],
   "source": [
    "name = 'check'\n",
    "\n",
    "@udf('boolean')\n",
    "def test(event_as_json):\n",
    "    event = json.loads(event_as_json)\n",
    "    if event['event_type'] == name:\n",
    "        return True\n",
    "    return False"
   ]
  },
  {
   "cell_type": "code",
   "execution_count": 11,
   "metadata": {
    "collapsed": true,
    "jupyter": {
     "outputs_hidden": true
    }
   },
   "outputs": [],
   "source": [
    "check_events = raw_events \\\n",
    "    .select(raw_events.value.cast('string').alias('stats'),\\\n",
    "            raw_events.timestamp.cast('string'))\\\n",
    "    .filter(test('stats'))"
   ]
  },
  {
   "cell_type": "code",
   "execution_count": 12,
   "metadata": {
    "collapsed": true
   },
   "outputs": [],
   "source": [
    "extracted_check_events = check_events \\\n",
    "    .rdd \\\n",
    "    .map(lambda r: Row(timestamp=r.timestamp, **json.loads(r.stats))) \\\n",
    "    .toDF()"
   ]
  },
  {
   "cell_type": "code",
   "execution_count": 13,
   "metadata": {},
   "outputs": [
    {
     "name": "stdout",
     "output_type": "stream",
     "text": [
      "+----------+-----------------+--------+--------------------+--------------------+-------+-------+\n",
      "|event_type|neighboring_bombs| outcome|          session_id|           timestamp|x_coord|y_coord|\n",
      "+----------+-----------------+--------+--------------------+--------------------+-------+-------+\n",
      "|     check|               28|    safe|9d814b0a-03d1-4c3...|2021-12-07 19:52:...|     49|     25|\n",
      "|     check|               36|    safe|9d814b0a-03d1-4c3...|2021-12-07 19:52:...|     39|     95|\n",
      "|     check|               52|    safe|9d814b0a-03d1-4c3...|2021-12-07 19:52:...|      7|     86|\n",
      "|     check|               30|    safe|9d814b0a-03d1-4c3...|2021-12-07 19:52:...|     61|     45|\n",
      "|     check|               49|    safe|9d814b0a-03d1-4c3...|2021-12-07 19:52:...|     12|     81|\n",
      "|     check|               50|    safe|5e7390a7-2876-478...|2021-12-07 19:52:...|      5|     72|\n",
      "|     check|               35|hit_mine|5e7390a7-2876-478...|2021-12-07 19:52:...|     32|     47|\n",
      "|     check|                0|    safe|5e7390a7-2876-478...|2021-12-07 19:52:...|     95|     56|\n",
      "|     check|               10|    safe|5e7390a7-2876-478...|2021-12-07 19:52:...|     84|     14|\n",
      "|     check|                1|    safe|5e7390a7-2876-478...|2021-12-07 19:52:...|     96|     84|\n",
      "|     check|                9|    safe|f47336e9-5f2c-473...|2021-12-07 19:52:...|     88|     66|\n",
      "|     check|                5|hit_mine|f47336e9-5f2c-473...|2021-12-07 19:52:...|     95|     20|\n",
      "|     check|               32|hit_mine|f47336e9-5f2c-473...|2021-12-07 19:52:...|     57|      6|\n",
      "|     check|               33|    safe|f47336e9-5f2c-473...|2021-12-07 19:52:...|      7|     99|\n",
      "|     check|               52|    safe|f47336e9-5f2c-473...|2021-12-07 19:52:...|      0|     17|\n",
      "|     check|               52|    safe|e04cf3b4-ae4e-4ea...|2021-12-07 19:52:...|      3|     69|\n",
      "|     check|               14|    safe|e04cf3b4-ae4e-4ea...|2021-12-07 19:52:...|     71|     90|\n",
      "|     check|               13|hit_mine|e04cf3b4-ae4e-4ea...|2021-12-07 19:52:...|     68|     58|\n",
      "|     check|               18|hit_mine|e04cf3b4-ae4e-4ea...|2021-12-07 19:52:...|     55|     60|\n",
      "|     check|               24|    safe|e04cf3b4-ae4e-4ea...|2021-12-07 19:52:...|     19|      0|\n",
      "+----------+-----------------+--------+--------------------+--------------------+-------+-------+\n",
      "only showing top 20 rows\n",
      "\n"
     ]
    }
   ],
   "source": [
    "extracted_check_events.show()"
   ]
  },
  {
   "cell_type": "code",
   "execution_count": 31,
   "metadata": {
    "collapsed": true,
    "jupyter": {
     "outputs_hidden": true
    }
   },
   "outputs": [],
   "source": [
    "extracted_check_events \\\n",
    "    .write \\\n",
    "    .mode('overwrite') \\\n",
    "    .parquet('/tmp/check_cell')"
   ]
  },
  {
   "cell_type": "code",
   "execution_count": 2,
   "metadata": {
    "collapsed": true,
    "jupyter": {
     "outputs_hidden": true
    }
   },
   "outputs": [],
   "source": [
    "check = spark.read.parquet('/tmp/check_cell')"
   ]
  },
  {
   "cell_type": "code",
   "execution_count": 3,
   "metadata": {
    "collapsed": true,
    "jupyter": {
     "outputs_hidden": true
    }
   },
   "outputs": [],
   "source": [
    "check.registerTempTable('check_event_table')"
   ]
  },
  {
   "cell_type": "code",
   "execution_count": 5,
   "metadata": {},
   "outputs": [
    {
     "data": {
      "text/plain": [
       "(25, 7)"
      ]
     },
     "execution_count": 5,
     "metadata": {},
     "output_type": "execute_result"
    }
   ],
   "source": [
    "spark.sql(\"select * from check_event_table\").toPandas().shape"
   ]
  },
  {
   "cell_type": "code",
   "execution_count": null,
   "metadata": {
    "collapsed": true,
    "jupyter": {
     "outputs_hidden": true
    }
   },
   "outputs": [],
   "source": []
  }
 ],
 "metadata": {
  "environment": {
   "kernel": "python3",
   "name": "common-cpu.m87",
   "type": "gcloud",
   "uri": "gcr.io/deeplearning-platform-release/base-cpu:m87"
  },
  "kernelspec": {
   "display_name": "Python 3",
   "language": "python",
   "name": "python3"
  },
  "language_info": {
   "codemirror_mode": {
    "name": "ipython",
    "version": 3
   },
   "file_extension": ".py",
   "mimetype": "text/x-python",
   "name": "python",
   "nbconvert_exporter": "python",
   "pygments_lexer": "ipython3",
   "version": "3.6.1"
  }
 },
 "nbformat": 4,
 "nbformat_minor": 4
}
