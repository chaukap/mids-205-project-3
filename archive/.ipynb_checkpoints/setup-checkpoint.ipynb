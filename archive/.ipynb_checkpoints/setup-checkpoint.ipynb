{
 "cells": [
  {
   "cell_type": "markdown",
   "id": "85170ec7-192a-43c0-8978-f1f96b84f9a1",
   "metadata": {},
   "source": [
    "**Spin up Docker Container:**\n",
    "\n",
    "`docker-compose up -d`"
   ]
  },
  {
   "cell_type": "markdown",
   "id": "f4229668-3d9d-465a-85db-70f1dc822363",
   "metadata": {},
   "source": [
    "**Create Kafka Topic, in this case called events:**\n",
    "\n",
    "`docker-compose exec kafka kafka-topics --create --topic events --partitions 1 --replication-factor 1 --if-not-exists --bootstrap-server kafka:29092`\n"
   ]
  },
  {
   "cell_type": "markdown",
   "id": "2f19c96f-1820-4411-aa56-f38a1b3661e1",
   "metadata": {},
   "source": [
    "**Run Flask App:**\n",
    "\n",
    "Install Redis and Flask:\n",
    "\n",
    "`docker-compose exec mids pip install redis==3.4.0`\n",
    "\n",
    "This one will result in an error since numpy isn't installed (maybe an issue with the docker-compose.yml file, but not sure:\n",
    "\n",
    "`docker-compose exec mids env FLASK_APP=/w205/mids-205-project-3/main.py flask run --host 0.0.0.0`\n"
   ]
  },
  {
   "cell_type": "markdown",
   "id": "2a109b10-e17c-472c-9b69-af7b7bae9d4c",
   "metadata": {},
   "source": [
    "In a new shell terminal, **set up to watch the incoming Kafka Queue:**. Remember to navigate to the working directory first.\n",
    "\n",
    "`docker-compose exec mids kafkacat -C -b kafka:29092 -t events -o beginning`"
   ]
  },
  {
   "cell_type": "markdown",
   "id": "3c366b26-5f40-4532-b3c1-5626762a6528",
   "metadata": {},
   "source": [
    "In a third shell window, **Simulate API calls manually:**. Remember to navigate to the working directory first.\n",
    "\n",
    "`docker-compose exec mids curl http://localhost:5000/`"
   ]
  },
  {
   "cell_type": "markdown",
   "id": "87d783a5-a0ef-4bb8-b393-c2bb2cb2cf86",
   "metadata": {},
   "source": [
    "**or use the event_generator file**\n",
    "\n",
    "Currently only set to run small batches of events as a test\n",
    "\n",
    "`docker-compose exec mids python /w205/mids-205-project-3/event_generator.py`"
   ]
  },
  {
   "cell_type": "markdown",
   "id": "f9edc5cc-34d5-4ae1-8f14-71a063b6cbee",
   "metadata": {},
   "source": [
    "**Read from Kafka:**\n",
    "\n",
    "`docker-compose exec mids kafkacat -C -b kafka:29092 -t events -o beginning -e`"
   ]
  },
  {
   "cell_type": "markdown",
   "id": "d0e9001f-7e76-4f57-a050-e338b7945a88",
   "metadata": {},
   "source": [
    "**Create a symbolic link so we can access our working directory**\n",
    "\n",
    "`docker-compose exec spark bash`\n",
    "\n",
    "`ln -s /w205/mids-205-project-3`\n",
    "\n",
    "`exit`\n",
    "\n"
   ]
  },
  {
   "cell_type": "markdown",
   "id": "41152136-0ce5-43fd-8298-8fef2631e0d5",
   "metadata": {},
   "source": [
    "**Launch a Jupyter Notebook in the Pyspark Environment**\n",
    "\n",
    "`docker-compose exec spark env PYSPARK_DRIVER_PYTHON=jupyter PYSPARK_DRIVER_PYTHON_OPTS='notebook --no-browser --port 8888 --ip 0.0.0.0 --allow-root' pyspark`"
   ]
  },
  {
   "cell_type": "code",
   "execution_count": null,
   "id": "33453f0d-63c3-4493-9bb2-5e73a524b10b",
   "metadata": {},
   "outputs": [],
   "source": []
  }
 ],
 "metadata": {
  "environment": {
   "name": "tf2-gpu.2-6.m81",
   "type": "gcloud",
   "uri": "gcr.io/deeplearning-platform-release/tf2-gpu.2-6:m81"
  },
  "kernelspec": {
   "display_name": "Python 3",
   "language": "python",
   "name": "python3"
  },
  "language_info": {
   "codemirror_mode": {
    "name": "ipython",
    "version": 3
   },
   "file_extension": ".py",
   "mimetype": "text/x-python",
   "name": "python",
   "nbconvert_exporter": "python",
   "pygments_lexer": "ipython3",
   "version": "3.7.10"
  }
 },
 "nbformat": 4,
 "nbformat_minor": 5
}
