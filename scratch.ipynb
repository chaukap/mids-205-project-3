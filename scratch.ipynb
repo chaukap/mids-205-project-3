{
 "cells": [
  {
   "cell_type": "code",
   "execution_count": 130,
   "metadata": {},
   "outputs": [],
   "source": [
    "import numpy as np\n",
    "import pandas as pd\n",
    "import matplotlib.pyplot as plt\n",
    "import os"
   ]
  },
  {
   "cell_type": "code",
   "execution_count": 131,
   "metadata": {},
   "outputs": [],
   "source": [
    "num_squares = 100\n",
    "side_length = int(np.sqrt(num_squares))\n",
    "rndst = np.random.RandomState(123)\n",
    "board = rndst.binomial(1, .2, size=num_squares).reshape(side_length, side_length)"
   ]
  },
  {
   "cell_type": "code",
   "execution_count": 132,
   "metadata": {
    "scrolled": true
   },
   "outputs": [
    {
     "data": {
      "text/plain": [
       "array([[0, 0, 0, 0, 0, 0, 1, 0, 0, 0],\n",
       "       [0, 0, 0, 0, 0, 0, 0, 0, 0, 0],\n",
       "       [0, 1, 0, 0, 0, 0, 0, 0, 0, 0],\n",
       "       [0, 0, 0, 0, 0, 0, 0, 1, 1, 0],\n",
       "       [0, 0, 0, 0, 1, 0, 0, 1, 0, 0],\n",
       "       [0, 1, 0, 0, 0, 0, 0, 0, 1, 0],\n",
       "       [0, 0, 0, 0, 1, 0, 0, 0, 0, 0],\n",
       "       [0, 1, 0, 0, 0, 0, 0, 0, 0, 0],\n",
       "       [0, 0, 0, 0, 1, 1, 0, 0, 0, 0],\n",
       "       [0, 1, 0, 0, 0, 0, 0, 0, 0, 0]])"
      ]
     },
     "execution_count": 132,
     "metadata": {},
     "output_type": "execute_result"
    }
   ],
   "source": [
    "board"
   ]
  },
  {
   "cell_type": "code",
   "execution_count": 135,
   "metadata": {},
   "outputs": [],
   "source": [
    "def neighboring_bombs(i,j):\n",
    "    total = 0\n",
    "    start_row = i-1\n",
    "    start_column = j-1\n",
    "    if i == 0:\n",
    "        start_row = i\n",
    "    if j == 0:\n",
    "        start_column = j    \n",
    "    for row in range(start_row, i+2):\n",
    "        for column in range(start_column, j+2):\n",
    "            try:\n",
    "#                 print(f'Row: {row}, Column: {column}, Value: {board[row][column]}')\n",
    "                total += board[row][column]\n",
    "            except:\n",
    "                pass\n",
    "#     print(f'\\nNumber of Bombs in Vicinity: {total}')\n",
    "\n",
    "\n",
    "#     if board[i][j]==1:\n",
    "#         total -= 1\n",
    "    return (total)"
   ]
  },
  {
   "cell_type": "code",
   "execution_count": 136,
   "metadata": {},
   "outputs": [
    {
     "name": "stdout",
     "output_type": "stream",
     "text": [
      "Row: 3, Column: 6, Value: 0\n",
      "Row: 3, Column: 7, Value: 1\n",
      "Row: 3, Column: 8, Value: 1\n",
      "Row: 4, Column: 6, Value: 0\n",
      "Row: 4, Column: 7, Value: 1\n",
      "Row: 4, Column: 8, Value: 0\n",
      "Row: 5, Column: 6, Value: 0\n",
      "Row: 5, Column: 7, Value: 0\n",
      "Row: 5, Column: 8, Value: 1\n",
      "\n",
      "Number of Bombs in Vicinity: 4\n"
     ]
    }
   ],
   "source": [
    "neighboring_bombs(4,7)"
   ]
  },
  {
   "cell_type": "code",
   "execution_count": null,
   "metadata": {},
   "outputs": [],
   "source": []
  }
 ],
 "metadata": {
  "environment": {
   "kernel": "python3",
   "name": "tf2-gpu.2-1.m82",
   "type": "gcloud",
   "uri": "gcr.io/deeplearning-platform-release/tf2-gpu.2-1:m82"
  },
  "kernelspec": {
   "display_name": "Python 3",
   "language": "python",
   "name": "python3"
  },
  "language_info": {
   "codemirror_mode": {
    "name": "ipython",
    "version": 3
   },
   "file_extension": ".py",
   "mimetype": "text/x-python",
   "name": "python",
   "nbconvert_exporter": "python",
   "pygments_lexer": "ipython3",
   "version": "3.8.3"
  }
 },
 "nbformat": 4,
 "nbformat_minor": 4
}
