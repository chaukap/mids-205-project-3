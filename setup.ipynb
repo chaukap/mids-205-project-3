{
 "cells": [
  {
   "cell_type": "markdown",
   "id": "85170ec7-192a-43c0-8978-f1f96b84f9a1",
   "metadata": {},
   "source": [
    "**Spin up Docker Container:**\n",
    "\n",
    "`docker-compose up -d`"
   ]
  },
  {
   "cell_type": "markdown",
   "id": "f4229668-3d9d-465a-85db-70f1dc822363",
   "metadata": {},
   "source": [
    "**Create Kafka Topic, in this case called events:**\n",
    "\n",
    "`docker-compose exec kafka kafka-topics --create --topic events --partitions 1 --replication-factor 1 --if-not-exists --zookeeper zookeeper:32181`"
   ]
  },
  {
   "cell_type": "markdown",
   "id": "2f19c96f-1820-4411-aa56-f38a1b3661e1",
   "metadata": {},
   "source": [
    "**Run Flask App:**\n",
    "\n",
    "\n",
    "This one will result in an error since numpy isn't installed (maybe an issue with the docker-compose.yml file, but not sure:\n",
    "\n",
    "`docker-compose exec mids env FLASK_APP=/w205/mids-205-project-3/main.py flask run --host 0.0.0.0`\n",
    "\n",
    "\n",
    "Try this one instead:\n",
    "\n",
    "`docker-compose exec mids env FLASK_APP=/w205/mids-205-project-3/test.py flask run --host 0.0.0.0`"
   ]
  },
  {
   "cell_type": "markdown",
   "id": "2a109b10-e17c-472c-9b69-af7b7bae9d4c",
   "metadata": {},
   "source": [
    "In a new shell terminal, **set up to watch the incoming Kafka Queue:**\n",
    "\n",
    "`docker-compose exec mids kafkacat -C -b kafka:29092 -t events -o beginning`"
   ]
  },
  {
   "cell_type": "markdown",
   "id": "3c366b26-5f40-4532-b3c1-5626762a6528",
   "metadata": {},
   "source": [
    "**Simulate API calls manually:**\n",
    "\n",
    "`docker-compose exec mids curl http://localhost:5000/`"
   ]
  },
  {
   "cell_type": "markdown",
   "id": "87d783a5-a0ef-4bb8-b393-c2bb2cb2cf86",
   "metadata": {},
   "source": [
    "**or use the event_generator file**\n",
    "\n",
    "Currently only set to run small batches of events as a test\n",
    "\n",
    "`docker-compose exec mids python /w205/mids-205-project-3/event_generator.py`"
   ]
  },
  {
   "cell_type": "markdown",
   "id": "f9edc5cc-34d5-4ae1-8f14-71a063b6cbee",
   "metadata": {},
   "source": [
    "**Read from Kafka:**\n",
    "\n",
    "`docker-compose exec mids kafkacat -C -b kafka:29092 -t events -o beginning -e`"
   ]
  },
  {
   "cell_type": "code",
   "execution_count": null,
   "id": "e1e65da0-62c4-4b69-9df5-6957ec7d19c0",
   "metadata": {},
   "outputs": [],
   "source": []
  }
 ],
 "metadata": {
  "environment": {
   "kernel": "",
   "name": "tf2-gpu.2-1.m82",
   "type": "gcloud",
   "uri": "gcr.io/deeplearning-platform-release/tf2-gpu.2-1:m82"
  },
  "kernelspec": {
   "display_name": "",
   "name": ""
  },
  "language_info": {
   "name": ""
  }
 },
 "nbformat": 4,
 "nbformat_minor": 5
}
