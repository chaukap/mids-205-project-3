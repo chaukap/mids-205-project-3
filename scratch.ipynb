{
 "cells": [
  {
   "cell_type": "code",
   "execution_count": 32,
   "metadata": {},
   "outputs": [],
   "source": [
    "import numpy as np\n",
    "import pandas as pd\n",
    "import matplotlib.pyplot as plt\n",
    "import os\n",
    "\n",
    "from flask import render_template"
   ]
  },
  {
   "cell_type": "code",
   "execution_count": 5,
   "metadata": {},
   "outputs": [],
   "source": [
    "num_squares = 400\n",
    "side_length = int(np.sqrt(num_squares))\n",
    "\n",
    "board = np.random.binomial(1, .2, size=400).reshape(20,20)"
   ]
  },
  {
   "cell_type": "code",
   "execution_count": 20,
   "metadata": {},
   "outputs": [],
   "source": [
    "strng = ''\n",
    "test = 'abcd'\n",
    "\n",
    "def func(test_string):\n",
    "    temp = ''\n",
    "    for i in test_string:\n",
    "        temp +=f'{i}\\n'\n",
    "    print(temp)\n",
    "    return"
   ]
  },
  {
   "cell_type": "code",
   "execution_count": 31,
   "metadata": {},
   "outputs": [
    {
     "name": "stdout",
     "output_type": "stream",
     "text": [
      "LINE1:[0 0 1 0 0 1 0 1 1 0 0 0 0 0 0 0 0 0 0 0]\n",
      "LINE2:[0 0 0 0 0 0 0 0 0 0 1 1 0 0 0 0 0 0 0 1]\n",
      "LINE3:[0 0 0 0 1 0 0 0 0 0 0 0 1 0 1 0 1 0 0 0]\n",
      "LINE4:[1 0 0 0 1 1 0 1 0 0 0 0 0 1 0 0 0 1 0 0]\n",
      "LINE5:[0 0 0 0 0 0 0 0 1 0 0 0 0 0 0 1 0 0 0 0]\n",
      "LINE6:[0 0 0 0 0 0 0 0 0 0 0 0 0 0 0 0 0 0 0 0]\n",
      "LINE7:[0 0 0 0 1 0 0 0 0 0 0 0 0 0 1 0 0 1 1 0]\n",
      "LINE8:[0 0 0 0 0 0 0 1 0 0 1 0 0 0 0 0 1 0 1 0]\n",
      "LINE9:[0 0 1 0 0 0 0 0 0 0 0 1 0 0 1 1 0 0 0 0]\n",
      "LINE10:[1 1 1 1 0 0 0 0 0 0 0 0 0 0 1 0 0 0 0 0]\n",
      "LINE11:[0 0 0 0 1 0 0 0 0 0 0 0 0 0 0 1 0 0 1 0]\n",
      "LINE12:[1 0 1 0 0 0 0 0 1 0 0 0 0 0 0 0 1 0 0 1]\n",
      "LINE13:[0 0 0 1 1 0 1 0 0 0 0 0 1 0 1 1 0 0 0 1]\n",
      "LINE14:[0 1 1 0 0 0 0 0 0 0 0 0 0 0 0 0 0 0 0 0]\n",
      "LINE15:[0 1 1 0 0 0 0 0 1 0 0 0 0 0 0 0 0 0 0 0]\n",
      "LINE16:[0 0 0 0 0 0 0 0 0 1 0 0 0 0 0 1 1 0 0 1]\n",
      "LINE17:[0 0 0 0 0 0 0 0 0 1 1 0 0 0 1 1 0 0 0 1]\n",
      "LINE18:[0 0 0 1 0 0 1 0 0 1 0 0 1 0 1 1 0 0 1 0]\n",
      "LINE19:[0 0 0 0 1 0 0 0 0 0 0 0 0 0 0 0 1 0 0 0]\n"
     ]
    },
    {
     "ename": "IndexError",
     "evalue": "index 20 is out of bounds for axis 0 with size 20",
     "output_type": "error",
     "traceback": [
      "\u001b[0;31m---------------------------------------------------------------------------\u001b[0m",
      "\u001b[0;31mIndexError\u001b[0m                                Traceback (most recent call last)",
      "\u001b[0;32m<ipython-input-31-404de2cda6e5>\u001b[0m in \u001b[0;36m<module>\u001b[0;34m\u001b[0m\n\u001b[1;32m      1\u001b[0m \u001b[0;32mfor\u001b[0m \u001b[0mi\u001b[0m \u001b[0;32min\u001b[0m \u001b[0mrange\u001b[0m\u001b[0;34m(\u001b[0m\u001b[0;36m1\u001b[0m\u001b[0;34m,\u001b[0m \u001b[0mlen\u001b[0m\u001b[0;34m(\u001b[0m\u001b[0mboard\u001b[0m\u001b[0;34m)\u001b[0m\u001b[0;34m+\u001b[0m\u001b[0;36m1\u001b[0m\u001b[0;34m)\u001b[0m\u001b[0;34m:\u001b[0m\u001b[0;34m\u001b[0m\u001b[0;34m\u001b[0m\u001b[0m\n\u001b[0;32m----> 2\u001b[0;31m     \u001b[0mprint\u001b[0m\u001b[0;34m(\u001b[0m\u001b[0;34mf'LINE{i}:{board[i]}'\u001b[0m\u001b[0;34m)\u001b[0m\u001b[0;34m\u001b[0m\u001b[0;34m\u001b[0m\u001b[0m\n\u001b[0m",
      "\u001b[0;31mIndexError\u001b[0m: index 20 is out of bounds for axis 0 with size 20"
     ]
    }
   ],
   "source": [
    "for i in range(1, len(board)+1):\n",
    "    print(f'LINE{i}:{board[i]}')"
   ]
  },
  {
   "cell_type": "code",
   "execution_count": null,
   "metadata": {},
   "outputs": [],
   "source": []
  },
  {
   "cell_type": "code",
   "execution_count": 6,
   "metadata": {},
   "outputs": [
    {
     "name": "stdout",
     "output_type": "stream",
     "text": [
      "[1 0 0 0 0 0 0 0 1 0 0 1 0 0 0 1 1 1 0 0]\n",
      "[0 0 1 0 0 1 0 1 1 0 0 0 0 0 0 0 0 0 0 0]\n",
      "[0 0 0 0 0 0 0 0 0 0 1 1 0 0 0 0 0 0 0 1]\n",
      "[0 0 0 0 1 0 0 0 0 0 0 0 1 0 1 0 1 0 0 0]\n",
      "[1 0 0 0 1 1 0 1 0 0 0 0 0 1 0 0 0 1 0 0]\n",
      "[0 0 0 0 0 0 0 0 1 0 0 0 0 0 0 1 0 0 0 0]\n",
      "[0 0 0 0 0 0 0 0 0 0 0 0 0 0 0 0 0 0 0 0]\n",
      "[0 0 0 0 1 0 0 0 0 0 0 0 0 0 1 0 0 1 1 0]\n",
      "[0 0 0 0 0 0 0 1 0 0 1 0 0 0 0 0 1 0 1 0]\n",
      "[0 0 1 0 0 0 0 0 0 0 0 1 0 0 1 1 0 0 0 0]\n",
      "[1 1 1 1 0 0 0 0 0 0 0 0 0 0 1 0 0 0 0 0]\n",
      "[0 0 0 0 1 0 0 0 0 0 0 0 0 0 0 1 0 0 1 0]\n",
      "[1 0 1 0 0 0 0 0 1 0 0 0 0 0 0 0 1 0 0 1]\n",
      "[0 0 0 1 1 0 1 0 0 0 0 0 1 0 1 1 0 0 0 1]\n",
      "[0 1 1 0 0 0 0 0 0 0 0 0 0 0 0 0 0 0 0 0]\n",
      "[0 1 1 0 0 0 0 0 1 0 0 0 0 0 0 0 0 0 0 0]\n",
      "[0 0 0 0 0 0 0 0 0 1 0 0 0 0 0 1 1 0 0 1]\n",
      "[0 0 0 0 0 0 0 0 0 1 1 0 0 0 1 1 0 0 0 1]\n",
      "[0 0 0 1 0 0 1 0 0 1 0 0 1 0 1 1 0 0 1 0]\n",
      "[0 0 0 0 1 0 0 0 0 0 0 0 0 0 0 0 1 0 0 0]\n"
     ]
    }
   ],
   "source": [
    "for i in board:\n",
    "    print(str(i))"
   ]
  },
  {
   "cell_type": "code",
   "execution_count": 9,
   "metadata": {},
   "outputs": [
    {
     "data": {
      "text/plain": [
       "array([[1, 1, 0, 0, 0, 0, 0, 0, 0, 0, 1, 0, 0, 0, 0, 0, 0, 0, 0, 1],\n",
       "       [0, 1, 0, 0, 0, 0, 0, 0, 0, 0, 0, 0, 1, 0, 1, 0, 0, 0, 0, 0],\n",
       "       [0, 0, 0, 0, 0, 0, 0, 0, 0, 0, 1, 0, 1, 0, 0, 0, 0, 0, 0, 0],\n",
       "       [0, 0, 1, 0, 0, 0, 0, 0, 0, 0, 0, 0, 0, 1, 0, 0, 0, 0, 0, 1],\n",
       "       [0, 0, 0, 1, 0, 0, 0, 0, 0, 0, 0, 0, 0, 1, 0, 0, 0, 0, 0, 0],\n",
       "       [0, 1, 0, 1, 0, 0, 0, 0, 0, 0, 1, 1, 1, 0, 0, 1, 0, 0, 1, 1],\n",
       "       [1, 1, 0, 0, 1, 1, 0, 0, 0, 0, 0, 0, 0, 0, 0, 0, 0, 1, 0, 1],\n",
       "       [0, 0, 0, 0, 0, 1, 1, 0, 0, 1, 0, 0, 0, 0, 0, 0, 0, 0, 0, 0],\n",
       "       [0, 1, 0, 0, 0, 1, 0, 0, 0, 0, 0, 0, 0, 1, 1, 0, 1, 0, 0, 0],\n",
       "       [1, 0, 0, 0, 1, 0, 0, 0, 0, 0, 0, 0, 0, 0, 0, 1, 0, 0, 0, 0],\n",
       "       [1, 1, 0, 0, 1, 0, 0, 0, 1, 0, 0, 1, 0, 0, 0, 0, 0, 1, 0, 0],\n",
       "       [1, 0, 1, 0, 0, 0, 0, 0, 1, 0, 0, 0, 0, 0, 1, 0, 1, 0, 1, 0],\n",
       "       [0, 1, 0, 0, 0, 0, 1, 0, 0, 0, 0, 1, 0, 0, 0, 0, 1, 1, 0, 0],\n",
       "       [0, 0, 1, 0, 0, 1, 0, 0, 0, 0, 1, 0, 0, 0, 0, 0, 0, 0, 0, 0],\n",
       "       [0, 0, 0, 1, 0, 0, 0, 0, 1, 0, 0, 0, 0, 1, 0, 0, 0, 1, 0, 0],\n",
       "       [0, 0, 1, 0, 1, 0, 0, 0, 0, 0, 0, 0, 1, 0, 0, 0, 0, 0, 1, 1],\n",
       "       [1, 0, 0, 0, 1, 0, 0, 0, 1, 0, 1, 0, 0, 1, 0, 0, 0, 0, 0, 0],\n",
       "       [0, 0, 0, 1, 0, 0, 0, 0, 0, 0, 0, 0, 0, 0, 0, 0, 0, 0, 0, 0],\n",
       "       [0, 0, 1, 0, 0, 0, 0, 0, 0, 0, 1, 0, 0, 0, 0, 0, 1, 0, 0, 0],\n",
       "       [0, 0, 0, 0, 0, 0, 0, 0, 1, 1, 0, 1, 0, 0, 0, 0, 0, 0, 0, 0]])"
      ]
     },
     "execution_count": 9,
     "metadata": {},
     "output_type": "execute_result"
    }
   ],
   "source": [
    "# board = np.random.randint(1, size =400).reshape(20,20)\n",
    "board"
   ]
  },
  {
   "cell_type": "code",
   "execution_count": 235,
   "metadata": {},
   "outputs": [],
   "source": [
    "def check(x,y):\n",
    "    if(board[x][y]):\n",
    "        return \"Boom! Game Over.\"\n",
    "    \n",
    "    return \"Safe!\" \n",
    "\n",
    "\n",
    "def flag():\n",
    "    x = int(request.args.get('x'))\n",
    "    y = int(request.args.get('y'))\n",
    "    \n",
    "    if(board[x][y]):\n",
    "        return \"That's a bomb alright!\"\n",
    "    \n",
    "    return \"Nope! Game Over.\" \n",
    "\n",
    "\n",
    "def solution():\n",
    "    return board\n",
    "\n",
    "\n",
    "\n",
    "def mine_counts(x,y):\n",
    "    return\n",
    "\n",
    "# def kernel(x,y):\n",
    "#     lower_limit_x = x-2\n",
    "#     lower_limit_y = y-2\n",
    "#     upper_limit_x = x+3\n",
    "#     upper_limit_y = y+3\n",
    "    \n",
    "#     if lower_limit_x < 0:\n",
    "#         lower_limit_x == 0\n",
    "#     if lower_limit_y < 0:\n",
    "#         lower_limit_y == 0\n",
    "# #     if upper_limit_x > 0:\n",
    "# #         upper_limit_x == 0\n",
    "# #     if lower_limit_x < 0:\n",
    "# #         lower_limit_x == 0\n",
    "    \n",
    "#     sub = board[lower_limit_x:upper_limit_x,lower_limit_y: upper_limit_y]\n",
    "    \n",
    "#     return(sub)\n",
    "\n",
    "\n",
    "def kernel(x,y):\n",
    "    the_kernel = np.zeros((5,5))\n",
    "    \n",
    "    if x-2 <0:\n",
    "        x_start = -1*(x-2)\n",
    "        top = x-2+x_start\n",
    "    else:\n",
    "        x_start = 0\n",
    "        top = x-2\n",
    "    if y-2 <0:\n",
    "        y_start = -1*(y-2)\n",
    "        left = y-2+y_start\n",
    "    else:\n",
    "        y_start = 0\n",
    "        left = y-2\n",
    "    \n",
    "    \n",
    "    \n",
    "    \n",
    "#     the_kernel[x_start:the_kernel.shape[0]-1 , y_start:the_kernel.shape[1]-1] = board[left:x+3,top:x+3]\n",
    "    print(x_start)\n",
    "    print(y_start)\n",
    "    print(left)\n",
    "    print(top)\n",
    "        \n",
    "    return(board[left:x+3,top:x+3])#x_start, left, y_start, top)\n",
    "\n"
   ]
  },
  {
   "cell_type": "code",
   "execution_count": 236,
   "metadata": {},
   "outputs": [
    {
     "name": "stdout",
     "output_type": "stream",
     "text": [
      "1\n",
      "1\n",
      "0\n",
      "0\n"
     ]
    },
    {
     "data": {
      "text/plain": [
       "array([[ 1,  3,  6, 16],\n",
       "       [ 5,  9,  2, 13],\n",
       "       [ 3,  0,  9, 13],\n",
       "       [14, 12,  2, 12]])"
      ]
     },
     "execution_count": 236,
     "metadata": {},
     "output_type": "execute_result"
    }
   ],
   "source": [
    "kernel(1,1)\n",
    "# board[0-2:0+3,0-2:0+3].shape"
   ]
  },
  {
   "cell_type": "code",
   "execution_count": 165,
   "metadata": {},
   "outputs": [
    {
     "data": {
      "text/plain": [
       "array([[ 1,  3,  6, 16, 16, 12,  7,  3, 12, 10],\n",
       "       [ 5,  9,  2, 13, 14,  4, 19,  4,  6, 13],\n",
       "       [ 3,  0,  9, 13,  3,  9, 10,  5, 13,  6],\n",
       "       [14, 12,  2, 12,  2,  1,  5,  0, 12,  9],\n",
       "       [ 5, 19,  2, 15,  9, 19, 17, 19,  7,  8],\n",
       "       [16, 18,  1,  9, 13, 11,  5, 19, 12, 13],\n",
       "       [ 8, 14,  0, 11, 15, 10, 16, 11,  2, 16],\n",
       "       [ 4,  5, 14, 19, 13, 11,  6, 13,  6, 10],\n",
       "       [ 8, 13, 17, 15, 16, 11,  0,  5, 19,  2],\n",
       "       [10,  2,  6,  4,  8, 17,  3,  1, 13,  7]])"
      ]
     },
     "execution_count": 165,
     "metadata": {},
     "output_type": "execute_result"
    }
   ],
   "source": [
    "board"
   ]
  },
  {
   "cell_type": "code",
   "execution_count": 212,
   "metadata": {},
   "outputs": [
    {
     "data": {
      "text/plain": [
       "4"
      ]
     },
     "execution_count": 212,
     "metadata": {},
     "output_type": "execute_result"
    }
   ],
   "source": [
    "a = np.zeros((5,5))\n",
    "a[0:4,0:4] = board[6:,6:]\n",
    "a.shape[0]-1"
   ]
  },
  {
   "cell_type": "code",
   "execution_count": 156,
   "metadata": {},
   "outputs": [
    {
     "data": {
      "text/plain": [
       "array([[0. , 1. , 2. ],\n",
       "       [3. , 1.1, 2.2],\n",
       "       [6. , 3.3, 4.4]])"
      ]
     },
     "execution_count": 156,
     "metadata": {},
     "output_type": "execute_result"
    }
   ],
   "source": [
    "a = np.arange(9).astype('float64').reshape(3,3)\n",
    "a\n",
    "\n",
    "b = np.array([1.1,2.2,3.3,4.4]).reshape(2,2)\n",
    "b\n",
    "\n",
    "a[1:,1:] = b[0:,0:]\n",
    "a"
   ]
  },
  {
   "cell_type": "code",
   "execution_count": 83,
   "metadata": {},
   "outputs": [
    {
     "data": {
      "text/plain": [
       "array([[0., 0., 0.],\n",
       "       [0., 0., 0.],\n",
       "       [0., 0., 0.]])"
      ]
     },
     "execution_count": 83,
     "metadata": {},
     "output_type": "execute_result"
    }
   ],
   "source": [
    "bombs = np.zeros((3,3))\n",
    "\n",
    "for i in range(1,the_kernel.shape[0]-1):\n",
    "    for j in range(1,the_kernel.shape[1]-1):\n",
    "        bombs[i][j] = \n",
    "bombs"
   ]
  },
  {
   "cell_type": "code",
   "execution_count": 74,
   "metadata": {},
   "outputs": [
    {
     "data": {
      "text/plain": [
       "array([[0, 0, 0, 0, 0, 0, 1, 0, 1, 1],\n",
       "       [0, 0, 0, 1, 1, 0, 0, 0, 1, 0],\n",
       "       [0, 0, 1, 0, 0, 0, 0, 1, 0, 1],\n",
       "       [0, 0, 1, 0, 0, 1, 0, 0, 0, 1],\n",
       "       [0, 1, 0, 0, 0, 1, 0, 0, 0, 0],\n",
       "       [0, 0, 1, 0, 0, 0, 0, 0, 0, 0],\n",
       "       [0, 0, 0, 0, 0, 1, 0, 0, 0, 1],\n",
       "       [0, 0, 1, 0, 1, 1, 0, 0, 0, 0],\n",
       "       [0, 0, 0, 0, 0, 1, 0, 0, 0, 0],\n",
       "       [0, 1, 0, 0, 1, 0, 0, 1, 0, 0]])"
      ]
     },
     "execution_count": 74,
     "metadata": {},
     "output_type": "execute_result"
    }
   ],
   "source": [
    "board"
   ]
  },
  {
   "cell_type": "code",
   "execution_count": 86,
   "metadata": {},
   "outputs": [
    {
     "data": {
      "text/plain": [
       "0"
      ]
     },
     "execution_count": 86,
     "metadata": {},
     "output_type": "execute_result"
    }
   ],
   "source": [
    "x = 0\n",
    "y = 8\n",
    "np.sum(board[x-1:x+2,y-1:y+2])"
   ]
  },
  {
   "cell_type": "code",
   "execution_count": null,
   "metadata": {},
   "outputs": [],
   "source": []
  }
 ],
 "metadata": {
  "environment": {
   "kernel": "python3",
   "name": "tf2-gpu.2-1.m82",
   "type": "gcloud",
   "uri": "gcr.io/deeplearning-platform-release/tf2-gpu.2-1:m82"
  },
  "kernelspec": {
   "display_name": "Python 3",
   "language": "python",
   "name": "python3"
  },
  "language_info": {
   "codemirror_mode": {
    "name": "ipython",
    "version": 3
   },
   "file_extension": ".py",
   "mimetype": "text/x-python",
   "name": "python",
   "nbconvert_exporter": "python",
   "pygments_lexer": "ipython3",
   "version": "3.7.10"
  }
 },
 "nbformat": 4,
 "nbformat_minor": 4
}
